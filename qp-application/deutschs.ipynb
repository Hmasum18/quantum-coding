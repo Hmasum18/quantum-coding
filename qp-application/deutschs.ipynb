{
 "metadata": {
  "language_info": {
   "codemirror_mode": {
    "name": "ipython",
    "version": 3
   },
   "file_extension": ".py",
   "mimetype": "text/x-python",
   "name": "python",
   "nbconvert_exporter": "python",
   "pygments_lexer": "ipython3",
   "version": "3.8.5"
  },
  "orig_nbformat": 4,
  "kernelspec": {
   "name": "python3",
   "display_name": "Python 3.8.5 64-bit ('base': conda)"
  },
  "interpreter": {
   "hash": "4ed45aa6ac5a1a10d965ed98952a837c078797d5ce3d4daee2c37f0532246df1"
  }
 },
 "nbformat": 4,
 "nbformat_minor": 2,
 "cells": [
  {
   "cell_type": "markdown",
   "source": [
    "# Tutorial followed\r\n",
    "- [Youtube-tutorial](https://www.youtube.com/watch?v=5xsyx-aNClM)\r\n",
    "- [Qmunity blog post on Deutschs algorithm](https://www.qmunity.tech/tutorials/deutschs-algorithm)\r\n",
    "- [Qiskit text book](https://qiskit.org/textbook/ch-algorithms/deutsch-jozsa.html)"
   ],
   "metadata": {}
  },
  {
   "cell_type": "code",
   "execution_count": 6,
   "source": [
    "from qiskit import *\r\n",
    "import matplotlib.pyplot as plt\r\n",
    "%matplotlib inline\r\n",
    "from qiskit.visualization import plot_histogram\r\n",
    "\r\n",
    "# load ibm account\r\n",
    "# IBMQ.load_account()"
   ],
   "outputs": [
    {
     "output_type": "stream",
     "name": "stderr",
     "text": [
      "ibmqfactory.load_account:WARNING:2021-07-31 00:01:22,337: Credentials are already in use. The existing account in the session will be replaced.\n"
     ]
    },
    {
     "output_type": "execute_result",
     "data": {
      "text/plain": [
       "<AccountProvider for IBMQ(hub='ibm-q', group='open', project='main')>"
      ]
     },
     "metadata": {},
     "execution_count": 6
    }
   ],
   "metadata": {}
  },
  {
   "cell_type": "code",
   "execution_count": 7,
   "source": [
    "circuit = QuantumCircuit(2, 1)\r\n",
    "circuit.x(1)\r\n",
    "circuit.barrier()\r\n",
    "circuit.draw('mpl')"
   ],
   "outputs": [
    {
     "output_type": "execute_result",
     "data": {
      "text/plain": [
       "<Figure size 206.852x204.68 with 1 Axes>"
      ],
      "image/png": "[encoded data removed]"
     },
     "metadata": {},
     "execution_count": 7
    }
   ],
   "metadata": {}
  },
  {
   "cell_type": "markdown",
   "source": [
    "# Build super postion of all possible inputs combination 00, 01, 10, 11"
   ],
   "metadata": {}
  },
  {
   "cell_type": "code",
   "execution_count": 8,
   "source": [
    "circuit.h(0)\r\n",
    "circuit.h(1)\r\n",
    "circuit.barrier()\r\n",
    "circuit.draw(output='mpl')"
   ],
   "outputs": [
    {
     "output_type": "execute_result",
     "data": {
      "text/plain": [
       "<Figure size 327.252x204.68 with 1 Axes>"
      ],
      "image/png": "[encoded data removed]"
     },
     "metadata": {},
     "execution_count": 8
    }
   ],
   "metadata": {}
  },
  {
   "cell_type": "code",
   "execution_count": 9,
   "source": [
    "def Uf(func):\r\n",
    "    uf = QuantumCircuit(2, name=\"Uf\")\r\n",
    "    if(func==\"x\"):\r\n",
    "        uf.cx(0,1) # f(x) = x (done) # C-NOT GATE\r\n",
    "    elif func==\"!x\":\r\n",
    "        uf.x(0)\r\n",
    "        uf.cx(0,1) # f(x) = !x  ?? # Z-CNOT\r\n",
    "    elif func==\"0\":\r\n",
    "        uf.i(1) # f(x) = 0 ?? # I gate\r\n",
    "    elif func==\"1\":\r\n",
    "        uf.x(1) # f(x) = 1 ?? # NOT gate \r\n",
    "    return uf\r\n",
    "uf_circuit = Uf(\"x\") # f(x) = !x\r\n",
    "uf_circuit.draw(output=\"mpl\")"
   ],
   "outputs": [
    {
     "output_type": "execute_result",
     "data": {
      "text/plain": [
       "<Figure size 146.652x144.48 with 1 Axes>"
      ],
      "image/png": "[encoded data removed]"
     },
     "metadata": {},
     "execution_count": 9
    }
   ],
   "metadata": {}
  },
  {
   "cell_type": "markdown",
   "source": [
    "# At this point we have the super position of possible inputs 00 , 01, 10, 11\r\n",
    "# and also have Uf qunatum operation"
   ],
   "metadata": {}
  },
  {
   "cell_type": "code",
   "execution_count": 19,
   "source": [
    "# add black box Uf in the circuit which include one of the 4 functions\r\n",
    "circuit.append(uf_circuit, qargs=[0,1])\r\n",
    "circuit.barrier()\r\n",
    "circuit.draw(output='mpl')"
   ],
   "outputs": [
    {
     "output_type": "execute_result",
     "data": {
      "text/plain": [
       "<Figure size 447.652x204.68 with 1 Axes>"
      ],
      "image/png": "[encoded data removed]"
     },
     "metadata": {},
     "execution_count": 19
    }
   ],
   "metadata": {}
  },
  {
   "cell_type": "code",
   "execution_count": 20,
   "source": [
    "circuit.h(0)\r\n",
    "circuit.barrier()\r\n",
    "circuit.measure(0, 0) # qubit, cbit\r\n",
    "#circuit.h(1)\r\n",
    "circuit.draw(output='mpl')"
   ],
   "outputs": [
    {
     "output_type": "execute_result",
     "data": {
      "text/plain": [
       "<Figure size 628.252x204.68 with 1 Axes>"
      ],
      "image/png": "[encoded data removed]"
     },
     "metadata": {},
     "execution_count": 20
    }
   ],
   "metadata": {}
  },
  {
   "cell_type": "markdown",
   "source": [
    "# Run simulation to get the output\r\n",
    "- Output will be 1 for balanced function.\r\n",
    "- Output will be 0 for constanct function."
   ],
   "metadata": {}
  },
  {
   "cell_type": "code",
   "execution_count": 21,
   "source": [
    "qasm_simulator = Aer.get_backend('qasm_simulator')\r\n",
    "task = execute(circuit, backend=qasm_simulator, shots=1024)\r\n",
    "result = task.result()\r\n",
    "counts=result.get_counts(circuit)\r\n",
    "print(counts)\r\n",
    "plot_histogram(counts)"
   ],
   "outputs": [
    {
     "output_type": "stream",
     "name": "stdout",
     "text": [
      "{'1': 1024}\n"
     ]
    },
    {
     "output_type": "execute_result",
     "data": {
      "text/plain": [
       "<Figure size 504x360 with 1 Axes>"
      ],
      "image/png": "[encoded data removed]"
     },
     "metadata": {},
     "execution_count": 21
    }
   ],
   "metadata": {}
  },
  {
   "cell_type": "code",
   "execution_count": 22,
   "source": [
    "#provider = IBMQ. get_provider('ibm-q')\r\n",
    "#provider.backends()\r\n",
    "qcomp = provider.get_backend('ibmq_belem')\r\n",
    "qcomp"
   ],
   "outputs": [
    {
     "output_type": "error",
     "ename": "NameError",
     "evalue": "name 'provider' is not defined",
     "traceback": [
      "\u001b[1;31m---------------------------------------------------------------------------\u001b[0m",
      "\u001b[1;31mNameError\u001b[0m                                 Traceback (most recent call last)",
      "\u001b[1;32m<ipython-input-22-9efe45a1dc1d>\u001b[0m in \u001b[0;36m<module>\u001b[1;34m\u001b[0m\n\u001b[0;32m      1\u001b[0m \u001b[1;31m#provider = IBMQ. get_provider('ibm-q')\u001b[0m\u001b[1;33m\u001b[0m\u001b[1;33m\u001b[0m\u001b[1;33m\u001b[0m\u001b[0m\n\u001b[0;32m      2\u001b[0m \u001b[1;31m#provider.backends()\u001b[0m\u001b[1;33m\u001b[0m\u001b[1;33m\u001b[0m\u001b[1;33m\u001b[0m\u001b[0m\n\u001b[1;32m----> 3\u001b[1;33m \u001b[0mqcomp\u001b[0m \u001b[1;33m=\u001b[0m \u001b[0mprovider\u001b[0m\u001b[1;33m.\u001b[0m\u001b[0mget_backend\u001b[0m\u001b[1;33m(\u001b[0m\u001b[1;34m'ibmq_belem'\u001b[0m\u001b[1;33m)\u001b[0m\u001b[1;33m\u001b[0m\u001b[1;33m\u001b[0m\u001b[0m\n\u001b[0m\u001b[0;32m      4\u001b[0m \u001b[0mqcomp\u001b[0m\u001b[1;33m\u001b[0m\u001b[1;33m\u001b[0m\u001b[0m\n",
      "\u001b[1;31mNameError\u001b[0m: name 'provider' is not defined"
     ]
    }
   ],
   "metadata": {}
  },
  {
   "cell_type": "code",
   "execution_count": 68,
   "source": [
    "job = execute(circuit,backend=qcomp, shots=1024)\r\n",
    "result= job.result()\r\n",
    "counts=result.get_counts(circuit)\r\n",
    "print(counts)\r\n",
    "plot_histogram(counts)"
   ],
   "outputs": [
    {
     "output_type": "stream",
     "name": "stdout",
     "text": [
      "{'0': 1015, '1': 9}\n"
     ]
    },
    {
     "output_type": "execute_result",
     "data": {
      "text/plain": [
       "<Figure size 504x360 with 1 Axes>"
      ],
      "image/png": "[encoded data removed]"
     },
     "metadata": {},
     "execution_count": 68
    }
   ],
   "metadata": {}
  }
 ]
}